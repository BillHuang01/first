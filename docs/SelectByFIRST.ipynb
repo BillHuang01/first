{
 "cells": [
  {
   "cell_type": "markdown",
   "metadata": {},
   "source": [
    "# SelectByFIRST\n",
    "\n",
    "We now demonstrate how to use FIRST for factor selection within the `sklearn.pipeline.Pipeline` via `SelectByFIRST` class. If you have not installed `first`, please uncomment and run `%pip install first` below before proceeding. "
   ]
  },
  {
   "cell_type": "code",
   "execution_count": 20,
   "metadata": {},
   "outputs": [
    {
     "name": "stdout",
     "output_type": "stream",
     "text": [
      "Requirement already satisfied: first in /Users/billhuang/.pyenv/versions/3.9.7/lib/python3.9/site-packages (0.1.0)\n",
      "Requirement already satisfied: twinning>=1.0.0 in /Users/billhuang/.pyenv/versions/3.9.7/lib/python3.9/site-packages (from first) (1.0)\n",
      "Requirement already satisfied: numpy>=1.20.3 in /Users/billhuang/.pyenv/versions/3.9.7/lib/python3.9/site-packages (from first) (1.24.3)\n",
      "Requirement already satisfied: pandas>=1.3.4 in /Users/billhuang/.pyenv/versions/3.9.7/lib/python3.9/site-packages (from first) (2.0.2)\n",
      "Requirement already satisfied: scikit-learn>=0.24.2 in /Users/billhuang/.pyenv/versions/3.9.7/lib/python3.9/site-packages (from first) (1.2.2)\n",
      "Requirement already satisfied: faiss-cpu>=1.7.4 in /Users/billhuang/.pyenv/versions/3.9.7/lib/python3.9/site-packages (from first) (1.7.4)\n",
      "Requirement already satisfied: pytz>=2020.1 in /Users/billhuang/.pyenv/versions/3.9.7/lib/python3.9/site-packages (from pandas>=1.3.4->first) (2023.3)\n",
      "Requirement already satisfied: tzdata>=2022.1 in /Users/billhuang/.pyenv/versions/3.9.7/lib/python3.9/site-packages (from pandas>=1.3.4->first) (2023.3)\n",
      "Requirement already satisfied: python-dateutil>=2.8.2 in /Users/billhuang/.pyenv/versions/3.9.7/lib/python3.9/site-packages (from pandas>=1.3.4->first) (2.8.2)\n",
      "Requirement already satisfied: six>=1.5 in /Users/billhuang/.pyenv/versions/3.9.7/lib/python3.9/site-packages (from python-dateutil>=2.8.2->pandas>=1.3.4->first) (1.16.0)\n",
      "Requirement already satisfied: joblib>=1.1.1 in /Users/billhuang/.pyenv/versions/3.9.7/lib/python3.9/site-packages (from scikit-learn>=0.24.2->first) (1.2.0)\n",
      "Requirement already satisfied: threadpoolctl>=2.0.0 in /Users/billhuang/.pyenv/versions/3.9.7/lib/python3.9/site-packages (from scikit-learn>=0.24.2->first) (3.1.0)\n",
      "Requirement already satisfied: scipy>=1.3.2 in /Users/billhuang/.pyenv/versions/3.9.7/lib/python3.9/site-packages (from scikit-learn>=0.24.2->first) (1.10.1)\n",
      "\u001b[33mWARNING: You are using pip version 21.2.3; however, version 24.0 is available.\n",
      "You should consider upgrading via the '/Users/billhuang/.pyenv/versions/3.9.7/bin/python -m pip install --upgrade pip' command.\u001b[0m\n",
      "Note: you may need to restart the kernel to use updated packages.\n"
     ]
    }
   ],
   "source": [
    "# %pip install first"
   ]
  },
  {
   "cell_type": "markdown",
   "metadata": {},
   "source": [
    "## Imports"
   ]
  },
  {
   "cell_type": "code",
   "execution_count": 2,
   "metadata": {},
   "outputs": [],
   "source": [
    "import numpy as np\n",
    "from first import SelectByFIRST\n",
    "from sklearn.pipeline import Pipeline\n",
    "from sklearn.ensemble import RandomForestRegressor\n",
    "from sklearn.model_selection import train_test_split\n",
    "from sklearn.datasets import fetch_california_housing"
   ]
  },
  {
   "cell_type": "markdown",
   "metadata": {},
   "source": [
    "## Fetch Data"
   ]
  },
  {
   "cell_type": "code",
   "execution_count": 3,
   "metadata": {},
   "outputs": [],
   "source": [
    "housing = fetch_california_housing()\n",
    "X = housing.data\n",
    "y = np.log(housing.target)\n",
    "X_train, X_test, y_train, y_test = train_test_split(X, y, test_size=0.2, random_state=43)"
   ]
  },
  {
   "cell_type": "markdown",
   "metadata": {},
   "source": [
    "## Build Pipeline and Train"
   ]
  },
  {
   "cell_type": "code",
   "execution_count": 4,
   "metadata": {},
   "outputs": [],
   "source": [
    "pipe = Pipeline([\n",
    "    ('selector', SelectByFIRST(regression=True,random_state=43)),\n",
    "    ('estimator', RandomForestRegressor(random_state=43))\n",
    "]).fit(X_train, y_train)"
   ]
  },
  {
   "cell_type": "markdown",
   "metadata": {},
   "source": [
    "## Test $R^2$ vs Full Model"
   ]
  },
  {
   "cell_type": "code",
   "execution_count": 8,
   "metadata": {},
   "outputs": [
    {
     "data": {
      "text/plain": [
       "0.8536755908380326"
      ]
     },
     "execution_count": 8,
     "metadata": {},
     "output_type": "execute_result"
    }
   ],
   "source": [
    "pipe.score(X_test, y_test)"
   ]
  },
  {
   "cell_type": "code",
   "execution_count": 9,
   "metadata": {},
   "outputs": [
    {
     "data": {
      "text/plain": [
       "0.845913188558511"
      ]
     },
     "execution_count": 9,
     "metadata": {},
     "output_type": "execute_result"
    }
   ],
   "source": [
    "full = RandomForestRegressor(random_state=43).fit(X_train, y_train)\n",
    "full.score(X_test, y_test)"
   ]
  },
  {
   "cell_type": "code",
   "execution_count": 11,
   "metadata": {},
   "outputs": [
    {
     "data": {
      "text/plain": [
       "array([0.00734335, 0.        , 0.        , 0.        , 0.        ,\n",
       "       0.01030303, 0.13941309, 0.15473792])"
      ]
     },
     "execution_count": 11,
     "metadata": {},
     "output_type": "execute_result"
    }
   ],
   "source": [
    "pipe['selector'].get_feature_importance()"
   ]
  },
  {
   "cell_type": "markdown",
   "metadata": {},
   "source": [
    "Comparable test $R^2$ is observed from the random forest model fitted on the 4 factors identified by FIRST versus the random forest model fitted on the entire set of factors. "
   ]
  }
 ],
 "metadata": {
  "kernelspec": {
   "display_name": "Python 3",
   "language": "python",
   "name": "python3"
  },
  "language_info": {
   "codemirror_mode": {
    "name": "ipython",
    "version": 3
   },
   "file_extension": ".py",
   "mimetype": "text/x-python",
   "name": "python",
   "nbconvert_exporter": "python",
   "pygments_lexer": "ipython3",
   "version": "3.9.7"
  }
 },
 "nbformat": 4,
 "nbformat_minor": 2
}
